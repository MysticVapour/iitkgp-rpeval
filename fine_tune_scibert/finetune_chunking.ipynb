{
 "cells": [
  {
   "cell_type": "code",
   "execution_count": 1,
   "metadata": {},
   "outputs": [
    {
     "data": {
      "text/html": [
       "<div>\n",
       "<style scoped>\n",
       "    .dataframe tbody tr th:only-of-type {\n",
       "        vertical-align: middle;\n",
       "    }\n",
       "\n",
       "    .dataframe tbody tr th {\n",
       "        vertical-align: top;\n",
       "    }\n",
       "\n",
       "    .dataframe thead th {\n",
       "        text-align: right;\n",
       "    }\n",
       "</style>\n",
       "<table border=\"1\" class=\"dataframe\">\n",
       "  <thead>\n",
       "    <tr style=\"text-align: right;\">\n",
       "      <th></th>\n",
       "      <th>id</th>\n",
       "      <th>file_name</th>\n",
       "      <th>publishable</th>\n",
       "      <th>conference</th>\n",
       "      <th>sections</th>\n",
       "    </tr>\n",
       "  </thead>\n",
       "  <tbody>\n",
       "    <tr>\n",
       "      <th>0</th>\n",
       "      <td>3808_The_Distortion_of_Binomia</td>\n",
       "      <td>3808_The_Distortion_of_Binomia.pdf</td>\n",
       "      <td>1</td>\n",
       "      <td>NeurIPS</td>\n",
       "      <td>{\"output\": \"The Distortion of Binomial Voting ...</td>\n",
       "    </tr>\n",
       "    <tr>\n",
       "      <th>1</th>\n",
       "      <td>461_LithoBench_Benchmarking_AI</td>\n",
       "      <td>461_LithoBench_Benchmarking_AI.pdf</td>\n",
       "      <td>1</td>\n",
       "      <td>NeurIPS</td>\n",
       "      <td>{\"output\": \"LithoBench: Benchmarking AI Comput...</td>\n",
       "    </tr>\n",
       "    <tr>\n",
       "      <th>2</th>\n",
       "      <td>9310_Multi_task_learning_with_</td>\n",
       "      <td>9310_Multi_task_learning_with_.pdf</td>\n",
       "      <td>1</td>\n",
       "      <td>NeurIPS</td>\n",
       "      <td>{\"output\": \"Multi-Task Learning with Summary S...</td>\n",
       "    </tr>\n",
       "    <tr>\n",
       "      <th>3</th>\n",
       "      <td>557_EmbodiedGPT_Vision_Languag</td>\n",
       "      <td>557_EmbodiedGPT_Vision_Languag.pdf</td>\n",
       "      <td>1</td>\n",
       "      <td>NeurIPS</td>\n",
       "      <td>{\"output\": \"EmbodiedGPT: Vision-Language Pre-T...</td>\n",
       "    </tr>\n",
       "    <tr>\n",
       "      <th>4</th>\n",
       "      <td>10107_Finite_Population_Regres</td>\n",
       "      <td>10107_Finite_Population_Regres.pdf</td>\n",
       "      <td>1</td>\n",
       "      <td>NeurIPS</td>\n",
       "      <td>{\"output\": \"Finite Population Regression Adjus...</td>\n",
       "    </tr>\n",
       "  </tbody>\n",
       "</table>\n",
       "</div>"
      ],
      "text/plain": [
       "                               id                           file_name  \\\n",
       "0  3808_The_Distortion_of_Binomia  3808_The_Distortion_of_Binomia.pdf   \n",
       "1  461_LithoBench_Benchmarking_AI  461_LithoBench_Benchmarking_AI.pdf   \n",
       "2  9310_Multi_task_learning_with_  9310_Multi_task_learning_with_.pdf   \n",
       "3  557_EmbodiedGPT_Vision_Languag  557_EmbodiedGPT_Vision_Languag.pdf   \n",
       "4  10107_Finite_Population_Regres  10107_Finite_Population_Regres.pdf   \n",
       "\n",
       "   publishable conference                                           sections  \n",
       "0            1    NeurIPS  {\"output\": \"The Distortion of Binomial Voting ...  \n",
       "1            1    NeurIPS  {\"output\": \"LithoBench: Benchmarking AI Comput...  \n",
       "2            1    NeurIPS  {\"output\": \"Multi-Task Learning with Summary S...  \n",
       "3            1    NeurIPS  {\"output\": \"EmbodiedGPT: Vision-Language Pre-T...  \n",
       "4            1    NeurIPS  {\"output\": \"Finite Population Regression Adjus...  "
      ]
     },
     "execution_count": 1,
     "metadata": {},
     "output_type": "execute_result"
    }
   ],
   "source": [
    "# Cell 1\n",
    "\n",
    "import sqlite3\n",
    "import json\n",
    "import pandas as pd\n",
    "\n",
    "# Connect to the SQLite database\n",
    "db_path = \"../db/research_papers.db\"  # <-- Adjust to your actual path\n",
    "conn = sqlite3.connect(db_path)\n",
    "\n",
    "# Load table into a Pandas DataFrame\n",
    "df = pd.read_sql_query(\"SELECT * FROM labelled_data\", conn)\n",
    "\n",
    "# Close the connection\n",
    "conn.close()\n",
    "\n",
    "df.head()"
   ]
  },
  {
   "cell_type": "code",
   "execution_count": 2,
   "metadata": {},
   "outputs": [
    {
     "data": {
      "text/html": [
       "<div>\n",
       "<style scoped>\n",
       "    .dataframe tbody tr th:only-of-type {\n",
       "        vertical-align: middle;\n",
       "    }\n",
       "\n",
       "    .dataframe tbody tr th {\n",
       "        vertical-align: top;\n",
       "    }\n",
       "\n",
       "    .dataframe thead th {\n",
       "        text-align: right;\n",
       "    }\n",
       "</style>\n",
       "<table border=\"1\" class=\"dataframe\">\n",
       "  <thead>\n",
       "    <tr style=\"text-align: right;\">\n",
       "      <th></th>\n",
       "      <th>sections</th>\n",
       "      <th>text</th>\n",
       "    </tr>\n",
       "  </thead>\n",
       "  <tbody>\n",
       "    <tr>\n",
       "      <th>0</th>\n",
       "      <td>{\"output\": \"The Distortion of Binomial Voting ...</td>\n",
       "      <td>The Distortion of Binomial Voting Defies Expec...</td>\n",
       "    </tr>\n",
       "    <tr>\n",
       "      <th>1</th>\n",
       "      <td>{\"output\": \"LithoBench: Benchmarking AI Comput...</td>\n",
       "      <td>LithoBench: Benchmarking AI Computational\\nLit...</td>\n",
       "    </tr>\n",
       "    <tr>\n",
       "      <th>2</th>\n",
       "      <td>{\"output\": \"Multi-Task Learning with Summary S...</td>\n",
       "      <td>Multi-Task Learning with Summary Statistics\\nP...</td>\n",
       "    </tr>\n",
       "    <tr>\n",
       "      <th>3</th>\n",
       "      <td>{\"output\": \"EmbodiedGPT: Vision-Language Pre-T...</td>\n",
       "      <td>EmbodiedGPT: Vision-Language Pre-Training via\\...</td>\n",
       "    </tr>\n",
       "    <tr>\n",
       "      <th>4</th>\n",
       "      <td>{\"output\": \"Finite Population Regression Adjus...</td>\n",
       "      <td>Finite Population Regression Adjustment and\\nN...</td>\n",
       "    </tr>\n",
       "  </tbody>\n",
       "</table>\n",
       "</div>"
      ],
      "text/plain": [
       "                                            sections  \\\n",
       "0  {\"output\": \"The Distortion of Binomial Voting ...   \n",
       "1  {\"output\": \"LithoBench: Benchmarking AI Comput...   \n",
       "2  {\"output\": \"Multi-Task Learning with Summary S...   \n",
       "3  {\"output\": \"EmbodiedGPT: Vision-Language Pre-T...   \n",
       "4  {\"output\": \"Finite Population Regression Adjus...   \n",
       "\n",
       "                                                text  \n",
       "0  The Distortion of Binomial Voting Defies Expec...  \n",
       "1  LithoBench: Benchmarking AI Computational\\nLit...  \n",
       "2  Multi-Task Learning with Summary Statistics\\nP...  \n",
       "3  EmbodiedGPT: Vision-Language Pre-Training via\\...  \n",
       "4  Finite Population Regression Adjustment and\\nN...  "
      ]
     },
     "execution_count": 2,
     "metadata": {},
     "output_type": "execute_result"
    }
   ],
   "source": [
    "# Cell 2\n",
    "\n",
    "def extract_text_from_json(json_str):\n",
    "    \"\"\"Extract the 'output' field from the JSON string.\"\"\"\n",
    "    try:\n",
    "        data = json.loads(json_str)\n",
    "        return data.get('output', '')\n",
    "    except (json.JSONDecodeError, TypeError):\n",
    "        return ''\n",
    "\n",
    "# Apply extraction\n",
    "df[\"text\"] = df[\"sections\"].apply(extract_text_from_json)\n",
    "\n",
    "# Optional cleanup for Unicode errors (if needed):\n",
    "import re\n",
    "df[\"text\"] = df[\"text\"].fillna(\"\")\n",
    "df[\"text\"] = df[\"text\"].apply(lambda x: re.sub(r'[\\ud800-\\udfff]', '', x))\n",
    "\n",
    "df[[\"sections\", \"text\"]].head()\n"
   ]
  },
  {
   "cell_type": "code",
   "execution_count": 3,
   "metadata": {},
   "outputs": [
    {
     "name": "stdout",
     "output_type": "stream",
     "text": [
      "Train set size: 245\n",
      "Validation set size: 62\n"
     ]
    }
   ],
   "source": [
    "# Cell 3\n",
    "\n",
    "from sklearn.model_selection import train_test_split\n",
    "\n",
    "train_df, valid_df = train_test_split(\n",
    "    df,\n",
    "    test_size=0.2,\n",
    "    random_state=42,\n",
    "    stratify=df[\"publishable\"]  # optional if your classes are imbalanced\n",
    ")\n",
    "\n",
    "print(\"Train set size:\", len(train_df))\n",
    "print(\"Validation set size:\", len(valid_df))\n"
   ]
  },
  {
   "cell_type": "code",
   "execution_count": null,
   "metadata": {},
   "outputs": [
    {
     "name": "stdout",
     "output_type": "stream",
     "text": [
      "Chunked train size: 8284\n",
      "Chunked valid size: 2046\n"
     ]
    },
    {
     "data": {
      "text/html": [
       "<div>\n",
       "<style scoped>\n",
       "    .dataframe tbody tr th:only-of-type {\n",
       "        vertical-align: middle;\n",
       "    }\n",
       "\n",
       "    .dataframe tbody tr th {\n",
       "        vertical-align: top;\n",
       "    }\n",
       "\n",
       "    .dataframe thead th {\n",
       "        text-align: right;\n",
       "    }\n",
       "</style>\n",
       "<table border=\"1\" class=\"dataframe\">\n",
       "  <thead>\n",
       "    <tr style=\"text-align: right;\">\n",
       "      <th></th>\n",
       "      <th>text</th>\n",
       "      <th>publishable</th>\n",
       "    </tr>\n",
       "  </thead>\n",
       "  <tbody>\n",
       "    <tr>\n",
       "      <th>0</th>\n",
       "      <td>proceedings of the 2023 conference on empirica...</td>\n",
       "      <td>1</td>\n",
       "    </tr>\n",
       "    <tr>\n",
       "      <th>1</th>\n",
       "      <td>candidates presented in fig. 1, a vwsd frame -...</td>\n",
       "      <td>1</td>\n",
       "    </tr>\n",
       "    <tr>\n",
       "      <th>2</th>\n",
       "      <td>and image - to - image ) and question - answer...</td>\n",
       "      <td>1</td>\n",
       "    </tr>\n",
       "    <tr>\n",
       "      <th>3</th>\n",
       "      <td>as enriching the short phrases of the vwsd dat...</td>\n",
       "      <td>1</td>\n",
       "    </tr>\n",
       "    <tr>\n",
       "      <th>4</th>\n",
       "      <td>( pre - trained on coco ( lin et al., 2015 ) a...</td>\n",
       "      <td>1</td>\n",
       "    </tr>\n",
       "  </tbody>\n",
       "</table>\n",
       "</div>"
      ],
      "text/plain": [
       "                                                text  publishable\n",
       "0  proceedings of the 2023 conference on empirica...            1\n",
       "1  candidates presented in fig. 1, a vwsd frame -...            1\n",
       "2  and image - to - image ) and question - answer...            1\n",
       "3  as enriching the short phrases of the vwsd dat...            1\n",
       "4  ( pre - trained on coco ( lin et al., 2015 ) a...            1"
      ]
     },
     "execution_count": 4,
     "metadata": {},
     "output_type": "execute_result"
    }
   ],
   "source": [
    "# Cell 4\n",
    "\n",
    "from transformers import AutoTokenizer\n",
    "\n",
    "model_name = \"allenai/scibert_scivocab_uncased\"\n",
    "tokenizer = AutoTokenizer.from_pretrained(model_name)\n",
    "\n",
    "def chunk_text(text, tokenizer, max_tokens=512, overlap=50):\n",
    "    \"\"\"\n",
    "    Splits the text into overlapping chunks of up to `max_tokens` tokens.\n",
    "    Returns a list of raw text chunks.\n",
    "    \"\"\"\n",
    "    tokens = tokenizer.tokenize(text)\n",
    "    chunks = []\n",
    "    start = 0\n",
    "    \n",
    "    while start < len(tokens):\n",
    "        end = start + max_tokens\n",
    "        chunk_tokens = tokens[start:end]\n",
    "        chunk_text = tokenizer.convert_tokens_to_string(chunk_tokens)\n",
    "        chunks.append(chunk_text)\n",
    "        \n",
    "        start += (max_tokens - overlap)\n",
    "        if start >= len(tokens):\n",
    "            break\n",
    "    \n",
    "    return chunks\n",
    "\n",
    "def chunk_dataset(df, tokenizer, max_tokens=512, overlap=50):\n",
    "    \"\"\"\n",
    "    Convert each row in `df` into multiple chunks (if text > max_tokens).\n",
    "    Duplicate the label for each chunk.\n",
    "    \"\"\"\n",
    "    new_texts = []\n",
    "    new_labels = []\n",
    "    \n",
    "    for _, row in df.iterrows():\n",
    "        text = row[\"text\"]\n",
    "        label = row[\"publishable\"]\n",
    "        \n",
    "        # Skip if text is NaN or empty\n",
    "        if not isinstance(text, str) or not text.strip():\n",
    "            continue\n",
    "        \n",
    "        chunks = chunk_text(text, tokenizer, max_tokens=max_tokens, overlap=overlap)\n",
    "        \n",
    "        # Duplicate the label for every chunk of the same document\n",
    "        new_texts.extend(chunks)\n",
    "        new_labels.extend([label] * len(chunks))\n",
    "    \n",
    "    return pd.DataFrame({\"text\": new_texts, \"publishable\": new_labels})\n",
    "\n",
    "train_df_chunked = chunk_dataset(train_df, tokenizer, max_tokens=512, overlap=50)\n",
    "valid_df_chunked = chunk_dataset(valid_df, tokenizer, max_tokens=512, overlap=50)\n",
    "\n",
    "print(\"Chunked train size:\", len(train_df_chunked))\n",
    "print(\"Chunked valid size:\", len(valid_df_chunked))\n",
    "train_df_chunked.head()\n"
   ]
  },
  {
   "cell_type": "code",
   "execution_count": 5,
   "metadata": {},
   "outputs": [
    {
     "data": {
      "text/plain": [
       "(Dataset({\n",
       "     features: ['text', 'labels'],\n",
       "     num_rows: 8284\n",
       " }),\n",
       " Dataset({\n",
       "     features: ['text', 'labels'],\n",
       "     num_rows: 2046\n",
       " }))"
      ]
     },
     "execution_count": 5,
     "metadata": {},
     "output_type": "execute_result"
    }
   ],
   "source": [
    "# Cell 5\n",
    "\n",
    "from datasets import Dataset\n",
    "\n",
    "# If you have Unicode issues, ensure you clean `train_df_chunked[\"text\"]` and `valid_df_chunked[\"text\"]`\n",
    "\n",
    "train_df_chunked.rename(columns={\"publishable\": \"labels\"}, inplace=True)\n",
    "valid_df_chunked.rename(columns={\"publishable\": \"labels\"}, inplace=True)\n",
    "\n",
    "train_dataset = Dataset.from_pandas(train_df_chunked, preserve_index=False)\n",
    "valid_dataset = Dataset.from_pandas(valid_df_chunked, preserve_index=False)\n",
    "\n",
    "train_dataset, valid_dataset\n"
   ]
  },
  {
   "cell_type": "code",
   "execution_count": 6,
   "metadata": {},
   "outputs": [
    {
     "name": "stderr",
     "output_type": "stream",
     "text": [
      "huggingface/tokenizers: The current process just got forked, after parallelism has already been used. Disabling parallelism to avoid deadlocks...\n",
      "To disable this warning, you can either:\n",
      "\t- Avoid using `tokenizers` before the fork if possible\n",
      "\t- Explicitly set the environment variable TOKENIZERS_PARALLELISM=(true | false)\n"
     ]
    },
    {
     "data": {
      "application/vnd.jupyter.widget-view+json": {
       "model_id": "73693b116e004fe68984c66fef3c4bc4",
       "version_major": 2,
       "version_minor": 0
      },
      "text/plain": [
       "Map:   0%|          | 0/8284 [00:00<?, ? examples/s]"
      ]
     },
     "metadata": {},
     "output_type": "display_data"
    },
    {
     "data": {
      "application/vnd.jupyter.widget-view+json": {
       "model_id": "df45a113dd974faba1b9bab0b2d059c0",
       "version_major": 2,
       "version_minor": 0
      },
      "text/plain": [
       "Map:   0%|          | 0/2046 [00:00<?, ? examples/s]"
      ]
     },
     "metadata": {},
     "output_type": "display_data"
    }
   ],
   "source": [
    "# Cell 6\n",
    "\n",
    "def tokenize_function(examples):\n",
    "    return tokenizer(\n",
    "        examples[\"text\"],\n",
    "        truncation=True,\n",
    "        padding=\"max_length\",\n",
    "        max_length=512\n",
    "    )\n",
    "\n",
    "train_dataset = train_dataset.map(tokenize_function, batched=True)\n",
    "valid_dataset = valid_dataset.map(tokenize_function, batched=True)\n",
    "\n",
    "train_dataset.set_format(\n",
    "    type=\"torch\", \n",
    "    columns=[\"input_ids\", \"attention_mask\", \"labels\"]\n",
    ")\n",
    "valid_dataset.set_format(\n",
    "    type=\"torch\", \n",
    "    columns=[\"input_ids\", \"attention_mask\", \"labels\"]\n",
    ")\n"
   ]
  },
  {
   "cell_type": "code",
   "execution_count": 7,
   "metadata": {},
   "outputs": [
    {
     "name": "stderr",
     "output_type": "stream",
     "text": [
      "huggingface/tokenizers: The current process just got forked, after parallelism has already been used. Disabling parallelism to avoid deadlocks...\n",
      "To disable this warning, you can either:\n",
      "\t- Avoid using `tokenizers` before the fork if possible\n",
      "\t- Explicitly set the environment variable TOKENIZERS_PARALLELISM=(true | false)\n",
      "Some weights of BertForSequenceClassification were not initialized from the model checkpoint at allenai/scibert_scivocab_uncased and are newly initialized: ['classifier.bias', 'classifier.weight']\n",
      "You should probably TRAIN this model on a down-stream task to be able to use it for predictions and inference.\n"
     ]
    },
    {
     "data": {
      "text/plain": [
       "BertForSequenceClassification(\n",
       "  (bert): BertModel(\n",
       "    (embeddings): BertEmbeddings(\n",
       "      (word_embeddings): Embedding(31090, 768, padding_idx=0)\n",
       "      (position_embeddings): Embedding(512, 768)\n",
       "      (token_type_embeddings): Embedding(2, 768)\n",
       "      (LayerNorm): LayerNorm((768,), eps=1e-12, elementwise_affine=True)\n",
       "      (dropout): Dropout(p=0.1, inplace=False)\n",
       "    )\n",
       "    (encoder): BertEncoder(\n",
       "      (layer): ModuleList(\n",
       "        (0-11): 12 x BertLayer(\n",
       "          (attention): BertAttention(\n",
       "            (self): BertSdpaSelfAttention(\n",
       "              (query): Linear(in_features=768, out_features=768, bias=True)\n",
       "              (key): Linear(in_features=768, out_features=768, bias=True)\n",
       "              (value): Linear(in_features=768, out_features=768, bias=True)\n",
       "              (dropout): Dropout(p=0.1, inplace=False)\n",
       "            )\n",
       "            (output): BertSelfOutput(\n",
       "              (dense): Linear(in_features=768, out_features=768, bias=True)\n",
       "              (LayerNorm): LayerNorm((768,), eps=1e-12, elementwise_affine=True)\n",
       "              (dropout): Dropout(p=0.1, inplace=False)\n",
       "            )\n",
       "          )\n",
       "          (intermediate): BertIntermediate(\n",
       "            (dense): Linear(in_features=768, out_features=3072, bias=True)\n",
       "            (intermediate_act_fn): GELUActivation()\n",
       "          )\n",
       "          (output): BertOutput(\n",
       "            (dense): Linear(in_features=3072, out_features=768, bias=True)\n",
       "            (LayerNorm): LayerNorm((768,), eps=1e-12, elementwise_affine=True)\n",
       "            (dropout): Dropout(p=0.1, inplace=False)\n",
       "          )\n",
       "        )\n",
       "      )\n",
       "    )\n",
       "    (pooler): BertPooler(\n",
       "      (dense): Linear(in_features=768, out_features=768, bias=True)\n",
       "      (activation): Tanh()\n",
       "    )\n",
       "  )\n",
       "  (dropout): Dropout(p=0.1, inplace=False)\n",
       "  (classifier): Linear(in_features=768, out_features=2, bias=True)\n",
       ")"
      ]
     },
     "execution_count": 7,
     "metadata": {},
     "output_type": "execute_result"
    }
   ],
   "source": [
    "# Cell 7\n",
    "\n",
    "import torch\n",
    "from transformers import AutoModelForSequenceClassification\n",
    "\n",
    "model = AutoModelForSequenceClassification.from_pretrained(\n",
    "    model_name, \n",
    "    num_labels=2  # binary classification\n",
    ")\n",
    "\n",
    "device = torch.device(\"cuda\" if torch.cuda.is_available() else \"cpu\")\n",
    "model.to(device)\n"
   ]
  },
  {
   "cell_type": "code",
   "execution_count": 8,
   "metadata": {},
   "outputs": [
    {
     "name": "stderr",
     "output_type": "stream",
     "text": [
      "/Users/advay/Projects/iitkgp-rpeval/.venv/lib/python3.11/site-packages/transformers/training_args.py:1575: FutureWarning: `evaluation_strategy` is deprecated and will be removed in version 4.46 of 🤗 Transformers. Use `eval_strategy` instead\n",
      "  warnings.warn(\n"
     ]
    },
    {
     "data": {
      "text/plain": [
       "<transformers.trainer.Trainer at 0x15b838990>"
      ]
     },
     "execution_count": 8,
     "metadata": {},
     "output_type": "execute_result"
    }
   ],
   "source": [
    "# Cell 8\n",
    "\n",
    "from transformers import Trainer, TrainingArguments\n",
    "import numpy as np\n",
    "from sklearn.metrics import accuracy_score, precision_recall_fscore_support\n",
    "\n",
    "def compute_metrics(eval_pred):\n",
    "    logits, labels = eval_pred\n",
    "    preds = np.argmax(logits, axis=1)\n",
    "    \n",
    "    acc = accuracy_score(labels, preds)\n",
    "    precision, recall, f1, _ = precision_recall_fscore_support(labels, preds, average=\"binary\")\n",
    "    return {\n",
    "        \"accuracy\": acc,\n",
    "        \"precision\": precision,\n",
    "        \"recall\": recall,\n",
    "        \"f1\": f1\n",
    "    }\n",
    "\n",
    "training_args = TrainingArguments(\n",
    "    output_dir=\"./scibert_finetuned_chunks\",  # directory to store model checkpoints\n",
    "    evaluation_strategy=\"epoch\",             # evaluate at the end of each epoch\n",
    "    save_strategy=\"epoch\",                   # save a checkpoint every epoch\n",
    "    per_device_train_batch_size=4,           # adjust based on GPU memory\n",
    "    per_device_eval_batch_size=4,\n",
    "    num_train_epochs=3,                      # feel free to increase\n",
    "    learning_rate=2e-5,                      # typical fine-tuning LR\n",
    "    logging_dir=\"./logs\",\n",
    "    load_best_model_at_end=True\n",
    ")\n",
    "\n",
    "trainer = Trainer(\n",
    "    model=model,\n",
    "    args=training_args,\n",
    "    train_dataset=train_dataset,\n",
    "    eval_dataset=valid_dataset,\n",
    "    compute_metrics=compute_metrics\n",
    ")\n",
    "\n",
    "trainer\n"
   ]
  },
  {
   "cell_type": "code",
   "execution_count": 9,
   "metadata": {},
   "outputs": [
    {
     "data": {
      "application/vnd.jupyter.widget-view+json": {
       "model_id": "9079d3dd664e40109ba3dd6ff0870d98",
       "version_major": 2,
       "version_minor": 0
      },
      "text/plain": [
       "  0%|          | 0/6213 [00:00<?, ?it/s]"
      ]
     },
     "metadata": {},
     "output_type": "display_data"
    },
    {
     "name": "stdout",
     "output_type": "stream",
     "text": [
      "{'loss': 0.1394, 'grad_norm': 0.004926782101392746, 'learning_rate': 1.8390471591823598e-05, 'epoch': 0.24}\n",
      "{'loss': 0.066, 'grad_norm': 0.00410446198657155, 'learning_rate': 1.6780943183647193e-05, 'epoch': 0.48}\n",
      "{'loss': 0.0509, 'grad_norm': 0.002024067332968116, 'learning_rate': 1.5171414775470788e-05, 'epoch': 0.72}\n",
      "{'loss': 0.0497, 'grad_norm': 0.0037560127675533295, 'learning_rate': 1.3561886367294384e-05, 'epoch': 0.97}\n"
     ]
    },
    {
     "data": {
      "application/vnd.jupyter.widget-view+json": {
       "model_id": "0b385563179c4977b002a8995c21f51b",
       "version_major": 2,
       "version_minor": 0
      },
      "text/plain": [
       "  0%|          | 0/512 [00:00<?, ?it/s]"
      ]
     },
     "metadata": {},
     "output_type": "display_data"
    },
    {
     "name": "stdout",
     "output_type": "stream",
     "text": [
      "{'eval_loss': 0.057358015328645706, 'eval_accuracy': 0.9897360703812317, 'eval_precision': 0.9973944762897342, 'eval_recall': 0.9917098445595854, 'eval_f1': 0.9945440374123149, 'eval_runtime': 95.4047, 'eval_samples_per_second': 21.445, 'eval_steps_per_second': 5.367, 'epoch': 1.0}\n",
      "{'loss': 0.0188, 'grad_norm': 0.0035171944182366133, 'learning_rate': 1.195235795911798e-05, 'epoch': 1.21}\n",
      "{'loss': 0.0126, 'grad_norm': 0.004475266672670841, 'learning_rate': 1.0342829550941576e-05, 'epoch': 1.45}\n",
      "{'loss': 0.0184, 'grad_norm': 0.0004950168658979237, 'learning_rate': 8.73330114276517e-06, 'epoch': 1.69}\n",
      "{'loss': 0.0007, 'grad_norm': 0.0005273022106848657, 'learning_rate': 7.1237727345887665e-06, 'epoch': 1.93}\n"
     ]
    },
    {
     "data": {
      "application/vnd.jupyter.widget-view+json": {
       "model_id": "76e92276155e4489a5e934d51e6995d3",
       "version_major": 2,
       "version_minor": 0
      },
      "text/plain": [
       "  0%|          | 0/512 [00:00<?, ?it/s]"
      ]
     },
     "metadata": {},
     "output_type": "display_data"
    },
    {
     "name": "stdout",
     "output_type": "stream",
     "text": [
      "{'eval_loss': 0.07458073645830154, 'eval_accuracy': 0.9882697947214076, 'eval_precision': 0.9922520661157025, 'eval_recall': 0.9953367875647668, 'eval_f1': 0.9937920331091568, 'eval_runtime': 94.935, 'eval_samples_per_second': 21.552, 'eval_steps_per_second': 5.393, 'epoch': 2.0}\n",
      "{'loss': 0.0077, 'grad_norm': 0.0002459415409248322, 'learning_rate': 5.514244326412362e-06, 'epoch': 2.17}\n",
      "{'loss': 0.0029, 'grad_norm': 0.00020651030354201794, 'learning_rate': 3.9047159182359575e-06, 'epoch': 2.41}\n",
      "{'loss': 0.0002, 'grad_norm': 0.00029924773843958974, 'learning_rate': 2.2951875100595526e-06, 'epoch': 2.66}\n",
      "{'loss': 0.0014, 'grad_norm': 0.00030411899206228554, 'learning_rate': 6.856591018831483e-07, 'epoch': 2.9}\n"
     ]
    },
    {
     "data": {
      "application/vnd.jupyter.widget-view+json": {
       "model_id": "4e9b2f13a7e142878a9dab3766ca66a2",
       "version_major": 2,
       "version_minor": 0
      },
      "text/plain": [
       "  0%|          | 0/512 [00:00<?, ?it/s]"
      ]
     },
     "metadata": {},
     "output_type": "display_data"
    },
    {
     "name": "stdout",
     "output_type": "stream",
     "text": [
      "{'eval_loss': 0.08893232047557831, 'eval_accuracy': 0.989247311827957, 'eval_precision': 0.9963579604578564, 'eval_recall': 0.9922279792746114, 'eval_f1': 0.994288681204569, 'eval_runtime': 85.7385, 'eval_samples_per_second': 23.863, 'eval_steps_per_second': 5.972, 'epoch': 3.0}\n",
      "{'train_runtime': 4250.8224, 'train_samples_per_second': 5.846, 'train_steps_per_second': 1.462, 'train_loss': 0.02968739089837099, 'epoch': 3.0}\n"
     ]
    },
    {
     "data": {
      "text/plain": [
       "TrainOutput(global_step=6213, training_loss=0.02968739089837099, metrics={'train_runtime': 4250.8224, 'train_samples_per_second': 5.846, 'train_steps_per_second': 1.462, 'total_flos': 6538835947806720.0, 'train_loss': 0.02968739089837099, 'epoch': 3.0})"
      ]
     },
     "execution_count": 9,
     "metadata": {},
     "output_type": "execute_result"
    }
   ],
   "source": [
    "# Cell 9\n",
    "\n",
    "trainer.train()\n"
   ]
  },
  {
   "cell_type": "code",
   "execution_count": 10,
   "metadata": {},
   "outputs": [
    {
     "data": {
      "application/vnd.jupyter.widget-view+json": {
       "model_id": "4ddf13ffdd6a49bc87cf0024edebf929",
       "version_major": 2,
       "version_minor": 0
      },
      "text/plain": [
       "  0%|          | 0/512 [00:00<?, ?it/s]"
      ]
     },
     "metadata": {},
     "output_type": "display_data"
    },
    {
     "name": "stdout",
     "output_type": "stream",
     "text": [
      "Evaluation Results: {'eval_loss': 0.057358015328645706, 'eval_accuracy': 0.9897360703812317, 'eval_precision': 0.9973944762897342, 'eval_recall': 0.9917098445595854, 'eval_f1': 0.9945440374123149, 'eval_runtime': 87.3384, 'eval_samples_per_second': 23.426, 'eval_steps_per_second': 5.862, 'epoch': 3.0}\n"
     ]
    }
   ],
   "source": [
    "# Cell 10\n",
    "\n",
    "eval_results = trainer.evaluate()\n",
    "print(\"Evaluation Results:\", eval_results)\n"
   ]
  },
  {
   "cell_type": "code",
   "execution_count": 11,
   "metadata": {},
   "outputs": [
    {
     "data": {
      "application/vnd.jupyter.widget-view+json": {
       "model_id": "85fe39082d87412ab25faf72149314f1",
       "version_major": 2,
       "version_minor": 0
      },
      "text/plain": [
       "  0%|          | 0/512 [00:00<?, ?it/s]"
      ]
     },
     "metadata": {},
     "output_type": "display_data"
    },
    {
     "name": "stdout",
     "output_type": "stream",
     "text": [
      "\n",
      "Confusion Matrix:\n",
      "[[ 111    5]\n",
      " [  16 1914]]\n",
      "\n",
      "Classification Report:\n",
      "              precision    recall  f1-score   support\n",
      "\n",
      "           0      0.874     0.957     0.914       116\n",
      "           1      0.997     0.992     0.995      1930\n",
      "\n",
      "    accuracy                          0.990      2046\n",
      "   macro avg      0.936     0.974     0.954      2046\n",
      "weighted avg      0.990     0.990     0.990      2046\n",
      "\n"
     ]
    }
   ],
   "source": [
    "# Detailed classification metrics\n",
    "from sklearn.metrics import confusion_matrix, classification_report\n",
    "\n",
    "predictions = trainer.predict(valid_dataset)\n",
    "y_preds = np.argmax(predictions.predictions, axis=1)\n",
    "y_true = predictions.label_ids\n",
    "\n",
    "print(\"\\nConfusion Matrix:\")\n",
    "print(confusion_matrix(y_true, y_preds))\n",
    "\n",
    "print(\"\\nClassification Report:\")\n",
    "print(classification_report(y_true, y_preds, digits=3))"
   ]
  },
  {
   "cell_type": "code",
   "execution_count": 15,
   "metadata": {},
   "outputs": [
    {
     "name": "stdout",
     "output_type": "stream",
     "text": [
      "Doc-Level Aggregation Results (Mean):\n",
      "Accuracy:   1.00\n",
      "Precision:  1.00\n",
      "Recall:     1.00\n",
      "F1 Score:   1.00\n",
      "\n",
      "Confusion Matrix:\n",
      "[[ 9  0]\n",
      " [ 0 53]]\n",
      "\n",
      "Classification Report:\n",
      "              precision    recall  f1-score   support\n",
      "\n",
      "           0      1.000     1.000     1.000         9\n",
      "           1      1.000     1.000     1.000        53\n",
      "\n",
      "    accuracy                          1.000        62\n",
      "   macro avg      1.000     1.000     1.000        62\n",
      "weighted avg      1.000     1.000     1.000        62\n",
      "\n"
     ]
    }
   ],
   "source": [
    "# Cell 11: Doc-level evaluation with aggregator\n",
    "\n",
    "import torch\n",
    "import numpy as np\n",
    "from sklearn.metrics import (\n",
    "    accuracy_score,\n",
    "    precision_score,\n",
    "    recall_score,\n",
    "    f1_score,\n",
    "    confusion_matrix,\n",
    "    classification_report\n",
    ")\n",
    "\n",
    "def classify_with_aggregation(text, tokenizer, model, max_tokens=512, overlap=50, aggregation=\"mean\"):\n",
    "    # chunk_text function is assumed to exist already\n",
    "    chunks = chunk_text(text, tokenizer, max_tokens=max_tokens, overlap=overlap)\n",
    "\n",
    "    # Make sure the model is on the correct device\n",
    "    device = torch.device(\"mps\")  # or detect automatically as shown above\n",
    "    model.to(device)\n",
    "    model.eval()\n",
    "\n",
    "    all_logits = []\n",
    "    with torch.no_grad():\n",
    "        for chunk in chunks:\n",
    "            inputs = tokenizer(\n",
    "                chunk,\n",
    "                return_tensors='pt',\n",
    "                truncation=True,\n",
    "                padding='max_length',\n",
    "                max_length=max_tokens\n",
    "            )\n",
    "            # Move inputs to MPS (or CPU)\n",
    "            inputs = {k: v.to(device) for k, v in inputs.items()}\n",
    "\n",
    "            outputs = model(**inputs)\n",
    "            logits = outputs.logits[0].cpu().numpy()\n",
    "            all_logits.append(logits)\n",
    "\n",
    "    all_logits = np.array(all_logits)  # shape: (#chunks, 2)\n",
    "    if aggregation == \"mean\":\n",
    "        agg_logits = np.mean(all_logits, axis=0)\n",
    "    else:  # \"max\"\n",
    "        agg_logits = np.max(all_logits, axis=0)\n",
    "    \n",
    "    return int(np.argmax(agg_logits))\n",
    "\n",
    "# Evaluate doc-level predictions on the original valid_df\n",
    "doc_preds = []\n",
    "doc_labels = []\n",
    "\n",
    "for i, row in valid_df.iterrows():\n",
    "    if isinstance(row[\"text\"], str) and row[\"text\"].strip():\n",
    "        pred_label = classify_with_aggregation(\n",
    "            row[\"text\"], \n",
    "            tokenizer, \n",
    "            model, \n",
    "            max_tokens=512, \n",
    "            overlap=50, \n",
    "            aggregation=\"mean\"  # or \"max\"\n",
    "        )\n",
    "        doc_preds.append(pred_label)\n",
    "        doc_labels.append(row[\"publishable\"])\n",
    "    else:\n",
    "        # For empty/invalid text, skip or assign None\n",
    "        doc_preds.append(None)\n",
    "        doc_labels.append(row[\"publishable\"])\n",
    "\n",
    "# Filter out any None predictions\n",
    "pairs = [(p, l) for p, l in zip(doc_preds, doc_labels) if p is not None]\n",
    "preds_filtered, labels_filtered = zip(*pairs)\n",
    "\n",
    "acc = accuracy_score(labels_filtered, preds_filtered)\n",
    "prec = precision_score(labels_filtered, preds_filtered)\n",
    "rec = recall_score(labels_filtered, preds_filtered)\n",
    "f1 = f1_score(labels_filtered, preds_filtered)\n",
    "\n",
    "print(f\"Doc-Level Aggregation Results (Mean):\")\n",
    "print(f\"Accuracy:   {acc:.2f}\")\n",
    "print(f\"Precision:  {prec:.2f}\")\n",
    "print(f\"Recall:     {rec:.2f}\")\n",
    "print(f\"F1 Score:   {f1:.2f}\\n\")\n",
    "\n",
    "# Confusion matrix + classification report\n",
    "cm = confusion_matrix(labels_filtered, preds_filtered)\n",
    "cr = classification_report(labels_filtered, preds_filtered, digits=3)\n",
    "\n",
    "print(\"Confusion Matrix:\")\n",
    "print(cm)\n",
    "print(\"\\nClassification Report:\")\n",
    "print(cr)\n"
   ]
  },
  {
   "cell_type": "code",
   "execution_count": null,
   "metadata": {},
   "outputs": [],
   "source": [
    "# Database connection\n",
    "db_path = \"../db/research_papers.db\"\n",
    "conn = sqlite3.connect(db_path)\n",
    "cursor = conn.cursor()\n",
    "\n",
    "# Create results table if it doesn't exist\n",
    "create_table_sql = \"\"\"\n",
    "CREATE TABLE IF NOT EXISTS results (\n",
    "    paper_id TEXT PRIMARY KEY,\n",
    "    publishable INTEGER,\n",
    "    conference TEXT,\n",
    "    rationale TEXT\n",
    ")\n",
    "\"\"\"\n",
    "cursor.execute(create_table_sql)\n",
    "conn.commit()\n",
    "\n",
    "# Load unlabelled data\n",
    "unlabelled_df = pd.read_sql_query(\"SELECT * FROM unlabelled_data\", conn)\n",
    "\n",
    "# Process each document and collect results\n",
    "results = []\n",
    "for _, row in unlabelled_df.iterrows():\n",
    "    text = extract_text_from_json(row[\"sections\"])\n",
    "    if isinstance(text, str) and text.strip():\n",
    "        pred_label = classify_with_aggregation(\n",
    "            text,\n",
    "            tokenizer,\n",
    "            model,\n",
    "            max_tokens=512,\n",
    "            overlap=50,\n",
    "            aggregation=\"mean\"\n",
    "        )\n",
    "        results.append({\n",
    "            \"paper_id\": (row[\"file_name\"]).replace(\".pdf\", \"\"),\n",
    "            \"publishable\": int(pred_label),\n",
    "            \"conference\": \"\",\n",
    "            \"rationale\": \"\"\n",
    "        })\n",
    "\n",
    "# Create DataFrame with results\n",
    "results_df = pd.DataFrame(results)\n",
    "\n",
    "try:\n",
    "    # Clear existing results if any\n",
    "    cursor.execute(\"DELETE FROM results\")\n",
    "    \n",
    "    # Insert new results using SQL directly\n",
    "    for _, row in results_df.iterrows():\n",
    "        cursor.execute(\"\"\"\n",
    "            INSERT INTO results (paper_id, publishable, conference, rationale)\n",
    "            VALUES (?, ?, ?, ?)\n",
    "        \"\"\", (row['paper_id'], row['publishable'], row['conference'], row['rationale']))\n",
    "    \n",
    "    conn.commit()\n",
    "    print(f\"Successfully processed and stored {len(results)} papers\")\n",
    "    \n",
    "except sqlite3.Error as e:\n",
    "    print(f\"Database error: {e}\")\n",
    "    conn.rollback()\n",
    "finally:\n",
    "    cursor.close()\n",
    "    conn.close()\n",
    "\n",
    "# Display sample of results\n",
    "print(\"\\nSample of results:\")\n",
    "print(results_df.head())"
   ]
  }
 ],
 "metadata": {
  "kernelspec": {
   "display_name": ".venv",
   "language": "python",
   "name": "python3"
  },
  "language_info": {
   "codemirror_mode": {
    "name": "ipython",
    "version": 3
   },
   "file_extension": ".py",
   "mimetype": "text/x-python",
   "name": "python",
   "nbconvert_exporter": "python",
   "pygments_lexer": "ipython3",
   "version": "3.11.5"
  }
 },
 "nbformat": 4,
 "nbformat_minor": 2
}
