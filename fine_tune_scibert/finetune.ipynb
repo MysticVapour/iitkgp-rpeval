{
 "cells": [
  {
   "cell_type": "code",
   "execution_count": 1,
   "metadata": {},
   "outputs": [
    {
     "data": {
      "text/html": [
       "<div>\n",
       "<style scoped>\n",
       "    .dataframe tbody tr th:only-of-type {\n",
       "        vertical-align: middle;\n",
       "    }\n",
       "\n",
       "    .dataframe tbody tr th {\n",
       "        vertical-align: top;\n",
       "    }\n",
       "\n",
       "    .dataframe thead th {\n",
       "        text-align: right;\n",
       "    }\n",
       "</style>\n",
       "<table border=\"1\" class=\"dataframe\">\n",
       "  <thead>\n",
       "    <tr style=\"text-align: right;\">\n",
       "      <th></th>\n",
       "      <th>id</th>\n",
       "      <th>file_name</th>\n",
       "      <th>publishable</th>\n",
       "      <th>conference</th>\n",
       "      <th>sections</th>\n",
       "    </tr>\n",
       "  </thead>\n",
       "  <tbody>\n",
       "    <tr>\n",
       "      <th>0</th>\n",
       "      <td>3808_The_Distortion_of_Binomia</td>\n",
       "      <td>3808_The_Distortion_of_Binomia.pdf</td>\n",
       "      <td>1</td>\n",
       "      <td>NeurIPS</td>\n",
       "      <td>{\"output\": \"The Distortion of Binomial Voting ...</td>\n",
       "    </tr>\n",
       "    <tr>\n",
       "      <th>1</th>\n",
       "      <td>461_LithoBench_Benchmarking_AI</td>\n",
       "      <td>461_LithoBench_Benchmarking_AI.pdf</td>\n",
       "      <td>1</td>\n",
       "      <td>NeurIPS</td>\n",
       "      <td>{\"output\": \"LithoBench: Benchmarking AI Comput...</td>\n",
       "    </tr>\n",
       "    <tr>\n",
       "      <th>2</th>\n",
       "      <td>9310_Multi_task_learning_with_</td>\n",
       "      <td>9310_Multi_task_learning_with_.pdf</td>\n",
       "      <td>1</td>\n",
       "      <td>NeurIPS</td>\n",
       "      <td>{\"output\": \"Multi-Task Learning with Summary S...</td>\n",
       "    </tr>\n",
       "    <tr>\n",
       "      <th>3</th>\n",
       "      <td>557_EmbodiedGPT_Vision_Languag</td>\n",
       "      <td>557_EmbodiedGPT_Vision_Languag.pdf</td>\n",
       "      <td>1</td>\n",
       "      <td>NeurIPS</td>\n",
       "      <td>{\"output\": \"EmbodiedGPT: Vision-Language Pre-T...</td>\n",
       "    </tr>\n",
       "    <tr>\n",
       "      <th>4</th>\n",
       "      <td>10107_Finite_Population_Regres</td>\n",
       "      <td>10107_Finite_Population_Regres.pdf</td>\n",
       "      <td>1</td>\n",
       "      <td>NeurIPS</td>\n",
       "      <td>{\"output\": \"Finite Population Regression Adjus...</td>\n",
       "    </tr>\n",
       "  </tbody>\n",
       "</table>\n",
       "</div>"
      ],
      "text/plain": [
       "                               id                           file_name  \\\n",
       "0  3808_The_Distortion_of_Binomia  3808_The_Distortion_of_Binomia.pdf   \n",
       "1  461_LithoBench_Benchmarking_AI  461_LithoBench_Benchmarking_AI.pdf   \n",
       "2  9310_Multi_task_learning_with_  9310_Multi_task_learning_with_.pdf   \n",
       "3  557_EmbodiedGPT_Vision_Languag  557_EmbodiedGPT_Vision_Languag.pdf   \n",
       "4  10107_Finite_Population_Regres  10107_Finite_Population_Regres.pdf   \n",
       "\n",
       "   publishable conference                                           sections  \n",
       "0            1    NeurIPS  {\"output\": \"The Distortion of Binomial Voting ...  \n",
       "1            1    NeurIPS  {\"output\": \"LithoBench: Benchmarking AI Comput...  \n",
       "2            1    NeurIPS  {\"output\": \"Multi-Task Learning with Summary S...  \n",
       "3            1    NeurIPS  {\"output\": \"EmbodiedGPT: Vision-Language Pre-T...  \n",
       "4            1    NeurIPS  {\"output\": \"Finite Population Regression Adjus...  "
      ]
     },
     "execution_count": 1,
     "metadata": {},
     "output_type": "execute_result"
    }
   ],
   "source": [
    "import sqlite3\n",
    "import json\n",
    "import pandas as pd\n",
    "from sklearn.model_selection import train_test_split\n",
    "\n",
    "# Connect to the SQLite database\n",
    "db_path = \"../db/research_papers.db\"  # <-- Adjust to your actual path\n",
    "conn = sqlite3.connect(db_path)\n",
    "\n",
    "# Load table into a Pandas DataFrame\n",
    "df = pd.read_sql_query(\"SELECT * FROM labelled_data\", conn)\n",
    "\n",
    "# Close the connection\n",
    "conn.close()\n",
    "\n",
    "# Quick check\n",
    "df.head()\n"
   ]
  },
  {
   "cell_type": "code",
   "execution_count": 2,
   "metadata": {},
   "outputs": [
    {
     "data": {
      "text/html": [
       "<div>\n",
       "<style scoped>\n",
       "    .dataframe tbody tr th:only-of-type {\n",
       "        vertical-align: middle;\n",
       "    }\n",
       "\n",
       "    .dataframe tbody tr th {\n",
       "        vertical-align: top;\n",
       "    }\n",
       "\n",
       "    .dataframe thead th {\n",
       "        text-align: right;\n",
       "    }\n",
       "</style>\n",
       "<table border=\"1\" class=\"dataframe\">\n",
       "  <thead>\n",
       "    <tr style=\"text-align: right;\">\n",
       "      <th></th>\n",
       "      <th>sections</th>\n",
       "      <th>text</th>\n",
       "    </tr>\n",
       "  </thead>\n",
       "  <tbody>\n",
       "    <tr>\n",
       "      <th>0</th>\n",
       "      <td>{\"output\": \"The Distortion of Binomial Voting ...</td>\n",
       "      <td>The Distortion of Binomial Voting Defies Expec...</td>\n",
       "    </tr>\n",
       "    <tr>\n",
       "      <th>1</th>\n",
       "      <td>{\"output\": \"LithoBench: Benchmarking AI Comput...</td>\n",
       "      <td>LithoBench: Benchmarking AI Computational\\nLit...</td>\n",
       "    </tr>\n",
       "    <tr>\n",
       "      <th>2</th>\n",
       "      <td>{\"output\": \"Multi-Task Learning with Summary S...</td>\n",
       "      <td>Multi-Task Learning with Summary Statistics\\nP...</td>\n",
       "    </tr>\n",
       "    <tr>\n",
       "      <th>3</th>\n",
       "      <td>{\"output\": \"EmbodiedGPT: Vision-Language Pre-T...</td>\n",
       "      <td>EmbodiedGPT: Vision-Language Pre-Training via\\...</td>\n",
       "    </tr>\n",
       "    <tr>\n",
       "      <th>4</th>\n",
       "      <td>{\"output\": \"Finite Population Regression Adjus...</td>\n",
       "      <td>Finite Population Regression Adjustment and\\nN...</td>\n",
       "    </tr>\n",
       "  </tbody>\n",
       "</table>\n",
       "</div>"
      ],
      "text/plain": [
       "                                            sections  \\\n",
       "0  {\"output\": \"The Distortion of Binomial Voting ...   \n",
       "1  {\"output\": \"LithoBench: Benchmarking AI Comput...   \n",
       "2  {\"output\": \"Multi-Task Learning with Summary S...   \n",
       "3  {\"output\": \"EmbodiedGPT: Vision-Language Pre-T...   \n",
       "4  {\"output\": \"Finite Population Regression Adjus...   \n",
       "\n",
       "                                                text  \n",
       "0  The Distortion of Binomial Voting Defies Expec...  \n",
       "1  LithoBench: Benchmarking AI Computational\\nLit...  \n",
       "2  Multi-Task Learning with Summary Statistics\\nP...  \n",
       "3  EmbodiedGPT: Vision-Language Pre-Training via\\...  \n",
       "4  Finite Population Regression Adjustment and\\nN...  "
      ]
     },
     "execution_count": 2,
     "metadata": {},
     "output_type": "execute_result"
    }
   ],
   "source": [
    "def extract_text_from_json(json_str):\n",
    "    \"\"\"Extract the 'output' field from the JSON string.\"\"\"\n",
    "    try:\n",
    "        data = json.loads(json_str)\n",
    "        return data.get('output', '')\n",
    "    except (json.JSONDecodeError, TypeError):\n",
    "        return ''\n",
    "\n",
    "# Apply extraction\n",
    "df['text'] = df['sections'].apply(extract_text_from_json)\n",
    "\n",
    "# Check the newly created 'text' column\n",
    "df[['sections', 'text']].head()\n"
   ]
  },
  {
   "cell_type": "code",
   "execution_count": 3,
   "metadata": {},
   "outputs": [
    {
     "name": "stdout",
     "output_type": "stream",
     "text": [
      "Train set size: 245\n",
      "Validation set size: 62\n"
     ]
    }
   ],
   "source": [
    "train_df, valid_df = train_test_split(\n",
    "    df, \n",
    "    test_size=0.2, \n",
    "    random_state=42, \n",
    "    stratify=df['publishable']  # optional, but recommended if classes are imbalanced\n",
    ")\n",
    "\n",
    "print(\"Train set size:\", len(train_df))\n",
    "print(\"Validation set size:\", len(valid_df))\n"
   ]
  },
  {
   "cell_type": "code",
   "execution_count": 4,
   "metadata": {},
   "outputs": [
    {
     "data": {
      "text/plain": [
       "(Dataset({\n",
       "     features: ['id', 'file_name', 'publishable', 'conference', 'sections', 'text'],\n",
       "     num_rows: 245\n",
       " }),\n",
       " Dataset({\n",
       "     features: ['id', 'file_name', 'publishable', 'conference', 'sections', 'text'],\n",
       "     num_rows: 62\n",
       " }))"
      ]
     },
     "execution_count": 4,
     "metadata": {},
     "output_type": "execute_result"
    }
   ],
   "source": [
    "from datasets import Dataset\n",
    "\n",
    "import re\n",
    "\n",
    "# Optional: Fill NaNs\n",
    "train_df['text'] = train_df['text'].fillna(\"\")\n",
    "valid_df['text'] = valid_df['text'].fillna(\"\")\n",
    "\n",
    "# Optional: Remove surrogate characters\n",
    "train_df['text'] = train_df['text'].apply(lambda x: re.sub(r'[\\ud800-\\udfff]', '', x))\n",
    "valid_df['text'] = valid_df['text'].apply(lambda x: re.sub(r'[\\ud800-\\udfff]', '', x))\n",
    "\n",
    "# Now convert\n",
    "train_dataset = Dataset.from_pandas(train_df, preserve_index=False)\n",
    "valid_dataset = Dataset.from_pandas(valid_df, preserve_index=False)\n",
    "train_dataset, valid_dataset\n"
   ]
  },
  {
   "cell_type": "code",
   "execution_count": 5,
   "metadata": {},
   "outputs": [
    {
     "data": {
      "application/vnd.jupyter.widget-view+json": {
       "model_id": "46c4b9c45fc542c4b9e58984ce954da9",
       "version_major": 2,
       "version_minor": 0
      },
      "text/plain": [
       "Map:   0%|          | 0/245 [00:00<?, ? examples/s]"
      ]
     },
     "metadata": {},
     "output_type": "display_data"
    },
    {
     "data": {
      "application/vnd.jupyter.widget-view+json": {
       "model_id": "7519cbf41bdc406cbf1a6ad05257c230",
       "version_major": 2,
       "version_minor": 0
      },
      "text/plain": [
       "Map:   0%|          | 0/62 [00:00<?, ? examples/s]"
      ]
     },
     "metadata": {},
     "output_type": "display_data"
    }
   ],
   "source": [
    "from transformers import AutoTokenizer\n",
    "\n",
    "model_name = \"allenai/scibert_scivocab_uncased\"\n",
    "tokenizer = AutoTokenizer.from_pretrained(model_name)\n",
    "\n",
    "def tokenize_function(examples):\n",
    "    return tokenizer(\n",
    "        examples[\"text\"],\n",
    "        truncation=True,\n",
    "        padding=\"max_length\",  # or 'longest' or dynamic if you prefer\n",
    "        max_length=512\n",
    "    )\n",
    "\n",
    "# Map the tokenize_function over the dataset\n",
    "train_dataset = train_dataset.map(tokenize_function, batched=True)\n",
    "valid_dataset = valid_dataset.map(tokenize_function, batched=True)\n",
    "\n",
    "# Set the dataset format for PyTorch\n",
    "# Make sure \"publishable\" is included among the columns\n",
    "train_dataset.set_format(type=\"torch\", columns=[\"input_ids\", \"attention_mask\", \"publishable\"])\n",
    "valid_dataset.set_format(type=\"torch\", columns=[\"input_ids\", \"attention_mask\", \"publishable\"])\n"
   ]
  },
  {
   "cell_type": "code",
   "execution_count": 6,
   "metadata": {},
   "outputs": [],
   "source": [
    "# ---- NEW CODE: rename columns right after you've set the format ----\n",
    "train_dataset = train_dataset.rename_column(\"publishable\", \"labels\")\n",
    "valid_dataset = valid_dataset.rename_column(\"publishable\", \"labels\")\n",
    "\n",
    "train_dataset.set_format(type=\"torch\", columns=[\"input_ids\", \"attention_mask\", \"labels\"])\n",
    "valid_dataset.set_format(type=\"torch\", columns=[\"input_ids\", \"attention_mask\", \"labels\"])"
   ]
  },
  {
   "cell_type": "code",
   "execution_count": 7,
   "metadata": {},
   "outputs": [
    {
     "name": "stderr",
     "output_type": "stream",
     "text": [
      "huggingface/tokenizers: The current process just got forked, after parallelism has already been used. Disabling parallelism to avoid deadlocks...\n",
      "To disable this warning, you can either:\n",
      "\t- Avoid using `tokenizers` before the fork if possible\n",
      "\t- Explicitly set the environment variable TOKENIZERS_PARALLELISM=(true | false)\n",
      "Some weights of BertForSequenceClassification were not initialized from the model checkpoint at allenai/scibert_scivocab_uncased and are newly initialized: ['classifier.bias', 'classifier.weight']\n",
      "You should probably TRAIN this model on a down-stream task to be able to use it for predictions and inference.\n"
     ]
    },
    {
     "data": {
      "text/plain": [
       "BertForSequenceClassification(\n",
       "  (bert): BertModel(\n",
       "    (embeddings): BertEmbeddings(\n",
       "      (word_embeddings): Embedding(31090, 768, padding_idx=0)\n",
       "      (position_embeddings): Embedding(512, 768)\n",
       "      (token_type_embeddings): Embedding(2, 768)\n",
       "      (LayerNorm): LayerNorm((768,), eps=1e-12, elementwise_affine=True)\n",
       "      (dropout): Dropout(p=0.1, inplace=False)\n",
       "    )\n",
       "    (encoder): BertEncoder(\n",
       "      (layer): ModuleList(\n",
       "        (0-11): 12 x BertLayer(\n",
       "          (attention): BertAttention(\n",
       "            (self): BertSdpaSelfAttention(\n",
       "              (query): Linear(in_features=768, out_features=768, bias=True)\n",
       "              (key): Linear(in_features=768, out_features=768, bias=True)\n",
       "              (value): Linear(in_features=768, out_features=768, bias=True)\n",
       "              (dropout): Dropout(p=0.1, inplace=False)\n",
       "            )\n",
       "            (output): BertSelfOutput(\n",
       "              (dense): Linear(in_features=768, out_features=768, bias=True)\n",
       "              (LayerNorm): LayerNorm((768,), eps=1e-12, elementwise_affine=True)\n",
       "              (dropout): Dropout(p=0.1, inplace=False)\n",
       "            )\n",
       "          )\n",
       "          (intermediate): BertIntermediate(\n",
       "            (dense): Linear(in_features=768, out_features=3072, bias=True)\n",
       "            (intermediate_act_fn): GELUActivation()\n",
       "          )\n",
       "          (output): BertOutput(\n",
       "            (dense): Linear(in_features=3072, out_features=768, bias=True)\n",
       "            (LayerNorm): LayerNorm((768,), eps=1e-12, elementwise_affine=True)\n",
       "            (dropout): Dropout(p=0.1, inplace=False)\n",
       "          )\n",
       "        )\n",
       "      )\n",
       "    )\n",
       "    (pooler): BertPooler(\n",
       "      (dense): Linear(in_features=768, out_features=768, bias=True)\n",
       "      (activation): Tanh()\n",
       "    )\n",
       "  )\n",
       "  (dropout): Dropout(p=0.1, inplace=False)\n",
       "  (classifier): Linear(in_features=768, out_features=2, bias=True)\n",
       ")"
      ]
     },
     "execution_count": 7,
     "metadata": {},
     "output_type": "execute_result"
    }
   ],
   "source": [
    "import torch\n",
    "from transformers import AutoModelForSequenceClassification\n",
    "\n",
    "model = AutoModelForSequenceClassification.from_pretrained(\n",
    "    model_name,\n",
    "    num_labels=2\n",
    ")\n",
    "\n",
    "# If you have a GPU, move the model there\n",
    "device = torch.device(\"cuda\" if torch.cuda.is_available() else \"cpu\")\n",
    "model.to(device)\n"
   ]
  },
  {
   "cell_type": "code",
   "execution_count": 8,
   "metadata": {},
   "outputs": [
    {
     "name": "stderr",
     "output_type": "stream",
     "text": [
      "huggingface/tokenizers: The current process just got forked, after parallelism has already been used. Disabling parallelism to avoid deadlocks...\n",
      "To disable this warning, you can either:\n",
      "\t- Avoid using `tokenizers` before the fork if possible\n",
      "\t- Explicitly set the environment variable TOKENIZERS_PARALLELISM=(true | false)\n"
     ]
    },
    {
     "name": "stdout",
     "output_type": "stream",
     "text": [
      "Requirement already satisfied: transformers[torch] in /Users/advay/Projects/iitkgp-rpeval/.venv/lib/python3.11/site-packages (4.47.1)\n",
      "Requirement already satisfied: filelock in /Users/advay/Projects/iitkgp-rpeval/.venv/lib/python3.11/site-packages (from transformers[torch]) (3.16.1)\n",
      "Requirement already satisfied: huggingface-hub<1.0,>=0.24.0 in /Users/advay/Projects/iitkgp-rpeval/.venv/lib/python3.11/site-packages (from transformers[torch]) (0.27.1)\n",
      "Requirement already satisfied: numpy>=1.17 in /Users/advay/Projects/iitkgp-rpeval/.venv/lib/python3.11/site-packages (from transformers[torch]) (2.2.1)\n",
      "Requirement already satisfied: packaging>=20.0 in /Users/advay/Projects/iitkgp-rpeval/.venv/lib/python3.11/site-packages (from transformers[torch]) (24.2)\n",
      "Requirement already satisfied: pyyaml>=5.1 in /Users/advay/Projects/iitkgp-rpeval/.venv/lib/python3.11/site-packages (from transformers[torch]) (6.0.2)\n",
      "Requirement already satisfied: regex!=2019.12.17 in /Users/advay/Projects/iitkgp-rpeval/.venv/lib/python3.11/site-packages (from transformers[torch]) (2024.11.6)\n",
      "Requirement already satisfied: requests in /Users/advay/Projects/iitkgp-rpeval/.venv/lib/python3.11/site-packages (from transformers[torch]) (2.32.3)\n",
      "Requirement already satisfied: tokenizers<0.22,>=0.21 in /Users/advay/Projects/iitkgp-rpeval/.venv/lib/python3.11/site-packages (from transformers[torch]) (0.21.0)\n",
      "Requirement already satisfied: safetensors>=0.4.1 in /Users/advay/Projects/iitkgp-rpeval/.venv/lib/python3.11/site-packages (from transformers[torch]) (0.5.1)\n",
      "Requirement already satisfied: tqdm>=4.27 in /Users/advay/Projects/iitkgp-rpeval/.venv/lib/python3.11/site-packages (from transformers[torch]) (4.67.1)\n",
      "Requirement already satisfied: torch in /Users/advay/Projects/iitkgp-rpeval/.venv/lib/python3.11/site-packages (from transformers[torch]) (2.5.1)\n",
      "Requirement already satisfied: accelerate>=0.26.0 in /Users/advay/Projects/iitkgp-rpeval/.venv/lib/python3.11/site-packages (from transformers[torch]) (1.2.1)\n",
      "Requirement already satisfied: psutil in /Users/advay/Projects/iitkgp-rpeval/.venv/lib/python3.11/site-packages (from accelerate>=0.26.0->transformers[torch]) (6.1.1)\n",
      "Requirement already satisfied: fsspec>=2023.5.0 in /Users/advay/Projects/iitkgp-rpeval/.venv/lib/python3.11/site-packages (from huggingface-hub<1.0,>=0.24.0->transformers[torch]) (2024.9.0)\n",
      "Requirement already satisfied: typing-extensions>=3.7.4.3 in /Users/advay/Projects/iitkgp-rpeval/.venv/lib/python3.11/site-packages (from huggingface-hub<1.0,>=0.24.0->transformers[torch]) (4.12.2)\n",
      "Requirement already satisfied: networkx in /Users/advay/Projects/iitkgp-rpeval/.venv/lib/python3.11/site-packages (from torch->transformers[torch]) (3.4.2)\n",
      "Requirement already satisfied: jinja2 in /Users/advay/Projects/iitkgp-rpeval/.venv/lib/python3.11/site-packages (from torch->transformers[torch]) (3.1.5)\n",
      "Requirement already satisfied: sympy==1.13.1 in /Users/advay/Projects/iitkgp-rpeval/.venv/lib/python3.11/site-packages (from torch->transformers[torch]) (1.13.1)\n",
      "Requirement already satisfied: mpmath<1.4,>=1.1.0 in /Users/advay/Projects/iitkgp-rpeval/.venv/lib/python3.11/site-packages (from sympy==1.13.1->torch->transformers[torch]) (1.3.0)\n",
      "Requirement already satisfied: charset-normalizer<4,>=2 in /Users/advay/Projects/iitkgp-rpeval/.venv/lib/python3.11/site-packages (from requests->transformers[torch]) (3.4.1)\n",
      "Requirement already satisfied: idna<4,>=2.5 in /Users/advay/Projects/iitkgp-rpeval/.venv/lib/python3.11/site-packages (from requests->transformers[torch]) (3.10)\n",
      "Requirement already satisfied: urllib3<3,>=1.21.1 in /Users/advay/Projects/iitkgp-rpeval/.venv/lib/python3.11/site-packages (from requests->transformers[torch]) (2.3.0)\n",
      "Requirement already satisfied: certifi>=2017.4.17 in /Users/advay/Projects/iitkgp-rpeval/.venv/lib/python3.11/site-packages (from requests->transformers[torch]) (2024.12.14)\n",
      "Requirement already satisfied: MarkupSafe>=2.0 in /Users/advay/Projects/iitkgp-rpeval/.venv/lib/python3.11/site-packages (from jinja2->torch->transformers[torch]) (3.0.2)\n",
      "\u001b[33mWARNING: There was an error checking the latest version of pip.\u001b[0m\u001b[33m\n",
      "\u001b[0m"
     ]
    },
    {
     "name": "stderr",
     "output_type": "stream",
     "text": [
      "/Users/advay/Projects/iitkgp-rpeval/.venv/lib/python3.11/site-packages/transformers/training_args.py:1575: FutureWarning: `evaluation_strategy` is deprecated and will be removed in version 4.46 of 🤗 Transformers. Use `eval_strategy` instead\n",
      "  warnings.warn(\n"
     ]
    },
    {
     "data": {
      "text/plain": [
       "<transformers.trainer.Trainer at 0x15f376190>"
      ]
     },
     "execution_count": 8,
     "metadata": {},
     "output_type": "execute_result"
    }
   ],
   "source": [
    "! pip install -U 'transformers[torch]'\n",
    "\n",
    "from transformers import Trainer, TrainingArguments\n",
    "import numpy as np\n",
    "from sklearn.metrics import accuracy_score, precision_recall_fscore_support\n",
    "\n",
    "def compute_metrics(eval_pred):\n",
    "    logits, labels = eval_pred\n",
    "    preds = np.argmax(logits, axis=1)\n",
    "    \n",
    "    acc = accuracy_score(labels, preds)\n",
    "    precision, recall, f1, _ = precision_recall_fscore_support(labels, preds, average='binary')\n",
    "    \n",
    "    return {\n",
    "        \"accuracy\": acc,\n",
    "        \"precision\": precision,\n",
    "        \"recall\": recall,\n",
    "        \"f1\": f1\n",
    "    }\n",
    "\n",
    "training_args = TrainingArguments(\n",
    "    output_dir=\"./scibert_finetuned\",  # directory to store model checkpoints\n",
    "    evaluation_strategy=\"epoch\",       # evaluate at the end of each epoch\n",
    "    save_strategy=\"epoch\",             # save a checkpoint at each epoch\n",
    "    per_device_train_batch_size=4,     # adjust based on your GPU memory\n",
    "    per_device_eval_batch_size=4,\n",
    "    num_train_epochs=3,                # feel free to increase\n",
    "    learning_rate=2e-5,                # typical fine-tuning LR\n",
    "    logging_dir=\"./logs\",\n",
    "    load_best_model_at_end=True        # load best model according to eval metric\n",
    ")\n",
    "\n",
    "trainer = Trainer(\n",
    "    model=model,\n",
    "    args=training_args,\n",
    "    train_dataset=train_dataset,\n",
    "    eval_dataset=valid_dataset,\n",
    "    compute_metrics=compute_metrics\n",
    ")\n",
    "\n",
    "trainer\n"
   ]
  },
  {
   "cell_type": "code",
   "execution_count": 9,
   "metadata": {},
   "outputs": [
    {
     "data": {
      "application/vnd.jupyter.widget-view+json": {
       "model_id": "bfb225ca67f44071816f6ee1d306ee83",
       "version_major": 2,
       "version_minor": 0
      },
      "text/plain": [
       "  0%|          | 0/186 [00:00<?, ?it/s]"
      ]
     },
     "metadata": {},
     "output_type": "display_data"
    },
    {
     "data": {
      "application/vnd.jupyter.widget-view+json": {
       "model_id": "7bf09995639b436896c41c618108071a",
       "version_major": 2,
       "version_minor": 0
      },
      "text/plain": [
       "  0%|          | 0/16 [00:00<?, ?it/s]"
      ]
     },
     "metadata": {},
     "output_type": "display_data"
    },
    {
     "name": "stdout",
     "output_type": "stream",
     "text": [
      "{'eval_loss': 0.29239562153816223, 'eval_accuracy': 0.8870967741935484, 'eval_precision': 0.9423076923076923, 'eval_recall': 0.9245283018867925, 'eval_f1': 0.9333333333333333, 'eval_runtime': 3.3738, 'eval_samples_per_second': 18.377, 'eval_steps_per_second': 4.742, 'epoch': 1.0}\n"
     ]
    },
    {
     "data": {
      "application/vnd.jupyter.widget-view+json": {
       "model_id": "b12f17d4f50e47a9bbdf25ab3e58ca91",
       "version_major": 2,
       "version_minor": 0
      },
      "text/plain": [
       "  0%|          | 0/16 [00:00<?, ?it/s]"
      ]
     },
     "metadata": {},
     "output_type": "display_data"
    },
    {
     "name": "stdout",
     "output_type": "stream",
     "text": [
      "{'eval_loss': 0.22644363343715668, 'eval_accuracy': 0.9354838709677419, 'eval_precision': 0.9298245614035088, 'eval_recall': 1.0, 'eval_f1': 0.9636363636363636, 'eval_runtime': 2.8423, 'eval_samples_per_second': 21.814, 'eval_steps_per_second': 5.629, 'epoch': 2.0}\n"
     ]
    },
    {
     "data": {
      "application/vnd.jupyter.widget-view+json": {
       "model_id": "26f911154a054d42b6b1240295438bef",
       "version_major": 2,
       "version_minor": 0
      },
      "text/plain": [
       "  0%|          | 0/16 [00:00<?, ?it/s]"
      ]
     },
     "metadata": {},
     "output_type": "display_data"
    },
    {
     "name": "stdout",
     "output_type": "stream",
     "text": [
      "{'eval_loss': 0.19934281706809998, 'eval_accuracy': 0.9354838709677419, 'eval_precision': 0.9298245614035088, 'eval_recall': 1.0, 'eval_f1': 0.9636363636363636, 'eval_runtime': 2.9597, 'eval_samples_per_second': 20.948, 'eval_steps_per_second': 5.406, 'epoch': 3.0}\n",
      "{'train_runtime': 148.4414, 'train_samples_per_second': 4.951, 'train_steps_per_second': 1.253, 'train_loss': 0.1693200244698473, 'epoch': 3.0}\n"
     ]
    },
    {
     "data": {
      "text/plain": [
       "TrainOutput(global_step=186, training_loss=0.1693200244698473, metrics={'train_runtime': 148.4414, 'train_samples_per_second': 4.951, 'train_steps_per_second': 1.253, 'total_flos': 193386625689600.0, 'train_loss': 0.1693200244698473, 'epoch': 3.0})"
      ]
     },
     "execution_count": 9,
     "metadata": {},
     "output_type": "execute_result"
    }
   ],
   "source": [
    "trainer.train()"
   ]
  },
  {
   "cell_type": "code",
   "execution_count": 10,
   "metadata": {},
   "outputs": [
    {
     "data": {
      "application/vnd.jupyter.widget-view+json": {
       "model_id": "362f535dde8d4e709ce7cb063faac7e9",
       "version_major": 2,
       "version_minor": 0
      },
      "text/plain": [
       "  0%|          | 0/16 [00:00<?, ?it/s]"
      ]
     },
     "metadata": {},
     "output_type": "display_data"
    },
    {
     "name": "stdout",
     "output_type": "stream",
     "text": [
      "Evaluation Results: {'eval_loss': 0.19934281706809998, 'eval_accuracy': 0.9354838709677419, 'eval_precision': 0.9298245614035088, 'eval_recall': 1.0, 'eval_f1': 0.9636363636363636, 'eval_runtime': 3.9271, 'eval_samples_per_second': 15.788, 'eval_steps_per_second': 4.074, 'epoch': 3.0}\n"
     ]
    },
    {
     "data": {
      "application/vnd.jupyter.widget-view+json": {
       "model_id": "9d8f00b47c9f4cf6bf014c11c0831312",
       "version_major": 2,
       "version_minor": 0
      },
      "text/plain": [
       "  0%|          | 0/16 [00:00<?, ?it/s]"
      ]
     },
     "metadata": {},
     "output_type": "display_data"
    },
    {
     "name": "stdout",
     "output_type": "stream",
     "text": [
      "\n",
      "Confusion Matrix:\n",
      "[[ 5  4]\n",
      " [ 0 53]]\n",
      "\n",
      "Classification Report:\n",
      "              precision    recall  f1-score   support\n",
      "\n",
      "           0      1.000     0.556     0.714         9\n",
      "           1      0.930     1.000     0.964        53\n",
      "\n",
      "    accuracy                          0.935        62\n",
      "   macro avg      0.965     0.778     0.839        62\n",
      "weighted avg      0.940     0.935     0.927        62\n",
      "\n"
     ]
    }
   ],
   "source": [
    "eval_results = trainer.evaluate()\n",
    "print(\"Evaluation Results:\", eval_results)\n",
    "\n",
    "# Detailed classification metrics\n",
    "from sklearn.metrics import confusion_matrix, classification_report\n",
    "\n",
    "predictions = trainer.predict(valid_dataset)\n",
    "y_preds = np.argmax(predictions.predictions, axis=1)\n",
    "y_true = predictions.label_ids\n",
    "\n",
    "print(\"\\nConfusion Matrix:\")\n",
    "print(confusion_matrix(y_true, y_preds))\n",
    "\n",
    "print(\"\\nClassification Report:\")\n",
    "print(classification_report(y_true, y_preds, digits=3))"
   ]
  },
  {
   "cell_type": "code",
   "execution_count": null,
   "metadata": {},
   "outputs": [],
   "source": [
    "import sys\n",
    "print(sys.executable)"
   ]
  }
 ],
 "metadata": {
  "kernelspec": {
   "display_name": ".venv",
   "language": "python",
   "name": "python3"
  },
  "language_info": {
   "codemirror_mode": {
    "name": "ipython",
    "version": 3
   },
   "file_extension": ".py",
   "mimetype": "text/x-python",
   "name": "python",
   "nbconvert_exporter": "python",
   "pygments_lexer": "ipython3",
   "version": "3.11.5"
  }
 },
 "nbformat": 4,
 "nbformat_minor": 2
}
